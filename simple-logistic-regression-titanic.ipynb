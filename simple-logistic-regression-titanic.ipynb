{
 "cells": [
  {
   "cell_type": "markdown",
   "metadata": {
    "_cell_guid": "8df926c0-b6dd-4a63-988d-03845c17afd9",
    "_uuid": "4a6a0d9f499cdf15476e5ab2c6368d4ff073cd79",
    "colab_type": "text",
    "id": "sT4YNv1_pWn_"
   },
   "source": [
    "预测Titanic乘客逃生"
   ]
  },
  {
   "cell_type": "code",
   "execution_count": 0,
   "metadata": {
    "_cell_guid": "f8e56847-6f04-4769-a6fa-5a4f951afe23",
    "_uuid": "e3216ffffdaa578ee74140a68687030a03aa7d1b",
    "colab": {},
    "colab_type": "code",
    "id": "0vsMk2hvpWoF",
    "outputId": "a399cee8-f240-4a29-9059-41f388753541"
   },
   "outputs": [
    {
     "data": {
      "text/plain": [
       "'C:\\\\Users\\\\chongyue\\\\Data Science\\\\Dropbox\\\\9Z Machine learning\\\\Logistic Regression'"
      ]
     },
     "execution_count": 133,
     "metadata": {
      "tags": []
     },
     "output_type": "execute_result"
    }
   ],
   "source": [
    "import numpy as np # 数组常用库\n",
    "import pandas as pd # 读入csv常用库\n",
    "from patsy import dmatrices # 可根据离散变量自动生成哑变量\n",
    "from sklearn.linear_model import LogisticRegression # sk-learn库Logistic Regression模型\n",
    "from sklearn.model_selection import train_test_split, cross_val_score # sk-learn库训练与测试\n",
    "from sklearn import metrics # 生成各项测试指标库\n",
    "import matplotlib.pyplot as plt # 画图常用库\n",
    "import seaborn as sns\n",
    "import os\n",
    "os.getcwd()"
   ]
  },
  {
   "cell_type": "markdown",
   "metadata": {
    "_cell_guid": "874b89dd-b042-45f6-a6eb-f1b656308e51",
    "_uuid": "e173e3c8333c27e0e5d61c4c6c433ef80dae2d4a",
    "colab_type": "text",
    "id": "Cmg7-uXopWoR"
   },
   "source": [
    "> 从../input/train.csv读入数据"
   ]
  },
  {
   "cell_type": "code",
   "execution_count": 0,
   "metadata": {
    "_cell_guid": "9dee18da-dd5e-4509-b992-9fcf8632c5a2",
    "_uuid": "521f1f969f351a561e1796fbae22a6d6768a60f9",
    "colab": {},
    "colab_type": "code",
    "id": "8j6J4ch0pWoi"
   },
   "outputs": [],
   "source": [
    "\n",
    "data=pd.read_csv(\"./titanic/train.csv\")\n"
   ]
  },
  {
   "cell_type": "markdown",
   "metadata": {
    "_cell_guid": "bcb160dc-5ab4-4114-976e-032ecaca377c",
    "_uuid": "dc755bf6a6fb11c80c9487e1e4ac448c59476cc5",
    "colab_type": "text",
    "id": "D32FmIVGpWpD"
   },
   "source": [
    "删除不需要的列以及含有NA值的行"
   ]
  },
  {
   "cell_type": "code",
   "execution_count": 0,
   "metadata": {
    "_cell_guid": "611bf1a7-0f8b-4777-a46b-e614fb59cd7c",
    "_uuid": "607f4a5726cddf977fa41d7d24eaeb244e55d18c",
    "colab": {},
    "colab_type": "code",
    "id": "1bzbjDidpWpJ"
   },
   "outputs": [],
   "source": [
    "data = data.drop(['Ticket', 'Cabin'], axis = 1)\n",
    "data = data.dropna()"
   ]
  },
  {
   "cell_type": "code",
   "execution_count": 0,
   "metadata": {
    "_cell_guid": "ea689c56-f4b0-4975-a40b-acc230eb2eb8",
    "_uuid": "27371f464cea0d2c3f07151e0a77a5e8020c68ab",
    "colab": {},
    "colab_type": "code",
    "id": "-gG3DaZ5pWpc",
    "outputId": "fe8b1843-f3f1-45b0-83c9-6cf5bf478fe9"
   },
   "outputs": [
    {
     "data": {
      "text/plain": [
       "712"
      ]
     },
     "execution_count": 136,
     "metadata": {
      "tags": []
     },
     "output_type": "execute_result"
    }
   ],
   "source": [
    "len(data.index)"
   ]
  },
  {
   "cell_type": "code",
   "execution_count": 0,
   "metadata": {
    "colab": {},
    "colab_type": "code",
    "id": "r4xi3cbtpWpy",
    "outputId": "41af419d-ed7e-421b-8add-265589117310"
   },
   "outputs": [
    {
     "data": {
      "text/html": [
       "<div>\n",
       "<style scoped>\n",
       "    .dataframe tbody tr th:only-of-type {\n",
       "        vertical-align: middle;\n",
       "    }\n",
       "\n",
       "    .dataframe tbody tr th {\n",
       "        vertical-align: top;\n",
       "    }\n",
       "\n",
       "    .dataframe thead th {\n",
       "        text-align: right;\n",
       "    }\n",
       "</style>\n",
       "<table border=\"1\" class=\"dataframe\">\n",
       "  <thead>\n",
       "    <tr style=\"text-align: right;\">\n",
       "      <th></th>\n",
       "      <th>PassengerId</th>\n",
       "      <th>Survived</th>\n",
       "      <th>Pclass</th>\n",
       "      <th>Name</th>\n",
       "      <th>Sex</th>\n",
       "      <th>Age</th>\n",
       "      <th>SibSp</th>\n",
       "      <th>Parch</th>\n",
       "      <th>Fare</th>\n",
       "      <th>Embarked</th>\n",
       "    </tr>\n",
       "  </thead>\n",
       "  <tbody>\n",
       "    <tr>\n",
       "      <th>0</th>\n",
       "      <td>1</td>\n",
       "      <td>0</td>\n",
       "      <td>3</td>\n",
       "      <td>Braund, Mr. Owen Harris</td>\n",
       "      <td>male</td>\n",
       "      <td>22.0</td>\n",
       "      <td>1</td>\n",
       "      <td>0</td>\n",
       "      <td>7.2500</td>\n",
       "      <td>S</td>\n",
       "    </tr>\n",
       "    <tr>\n",
       "      <th>1</th>\n",
       "      <td>2</td>\n",
       "      <td>1</td>\n",
       "      <td>1</td>\n",
       "      <td>Cumings, Mrs. John Bradley (Florence Briggs Th...</td>\n",
       "      <td>female</td>\n",
       "      <td>38.0</td>\n",
       "      <td>1</td>\n",
       "      <td>0</td>\n",
       "      <td>71.2833</td>\n",
       "      <td>C</td>\n",
       "    </tr>\n",
       "    <tr>\n",
       "      <th>2</th>\n",
       "      <td>3</td>\n",
       "      <td>1</td>\n",
       "      <td>3</td>\n",
       "      <td>Heikkinen, Miss. Laina</td>\n",
       "      <td>female</td>\n",
       "      <td>26.0</td>\n",
       "      <td>0</td>\n",
       "      <td>0</td>\n",
       "      <td>7.9250</td>\n",
       "      <td>S</td>\n",
       "    </tr>\n",
       "    <tr>\n",
       "      <th>3</th>\n",
       "      <td>4</td>\n",
       "      <td>1</td>\n",
       "      <td>1</td>\n",
       "      <td>Futrelle, Mrs. Jacques Heath (Lily May Peel)</td>\n",
       "      <td>female</td>\n",
       "      <td>35.0</td>\n",
       "      <td>1</td>\n",
       "      <td>0</td>\n",
       "      <td>53.1000</td>\n",
       "      <td>S</td>\n",
       "    </tr>\n",
       "    <tr>\n",
       "      <th>4</th>\n",
       "      <td>5</td>\n",
       "      <td>0</td>\n",
       "      <td>3</td>\n",
       "      <td>Allen, Mr. William Henry</td>\n",
       "      <td>male</td>\n",
       "      <td>35.0</td>\n",
       "      <td>0</td>\n",
       "      <td>0</td>\n",
       "      <td>8.0500</td>\n",
       "      <td>S</td>\n",
       "    </tr>\n",
       "  </tbody>\n",
       "</table>\n",
       "</div>"
      ],
      "text/plain": [
       "   PassengerId  Survived  Pclass  \\\n",
       "0            1         0       3   \n",
       "1            2         1       1   \n",
       "2            3         1       3   \n",
       "3            4         1       1   \n",
       "4            5         0       3   \n",
       "\n",
       "                                                Name     Sex   Age  SibSp  \\\n",
       "0                            Braund, Mr. Owen Harris    male  22.0      1   \n",
       "1  Cumings, Mrs. John Bradley (Florence Briggs Th...  female  38.0      1   \n",
       "2                             Heikkinen, Miss. Laina  female  26.0      0   \n",
       "3       Futrelle, Mrs. Jacques Heath (Lily May Peel)  female  35.0      1   \n",
       "4                           Allen, Mr. William Henry    male  35.0      0   \n",
       "\n",
       "   Parch     Fare Embarked  \n",
       "0      0   7.2500        S  \n",
       "1      0  71.2833        C  \n",
       "2      0   7.9250        S  \n",
       "3      0  53.1000        S  \n",
       "4      0   8.0500        S  "
      ]
     },
     "execution_count": 137,
     "metadata": {
      "tags": []
     },
     "output_type": "execute_result"
    }
   ],
   "source": [
    "data.head()"
   ]
  },
  {
   "cell_type": "markdown",
   "metadata": {
    "_cell_guid": "9e7b20be-2e3b-42e3-8276-160f58c3b0d2",
    "_uuid": "77bb383a89191301b76e00d2fe8a3a8546a5a6a7",
    "colab_type": "text",
    "id": "8V1bCQg0pWqH"
   },
   "source": [
    "观察逃生人数与未逃生人数"
   ]
  },
  {
   "cell_type": "code",
   "execution_count": 0,
   "metadata": {
    "_cell_guid": "7b57311a-eec9-492e-87ee-cdc474267dc3",
    "_uuid": "17424bc89a0fc390a0a72485826062b39cb87309",
    "colab": {},
    "colab_type": "code",
    "id": "TkbYfpHopWqL",
    "outputId": "ef1edfc1-b683-448e-ec11-30fd22182b03"
   },
   "outputs": [
    {
     "data": {
      "text/plain": [
       "(array([424.,   0.,   0.,   0.,   0.,   0.,   0.,   0.,   0., 288.]),\n",
       " array([0. , 0.1, 0.2, 0.3, 0.4, 0.5, 0.6, 0.7, 0.8, 0.9, 1. ]),\n",
       " <a list of 10 Patch objects>)"
      ]
     },
     "execution_count": 138,
     "metadata": {
      "tags": []
     },
     "output_type": "execute_result"
    },
    {
     "data": {
      "image/png": "[encoded data removed]",
      "text/plain": [
       "<Figure size 432x288 with 1 Axes>"
      ]
     },
     "metadata": {
      "needs_background": "light",
      "tags": []
     },
     "output_type": "display_data"
    }
   ],
   "source": [
    "plt.hist(data.Survived)"
   ]
  },
  {
   "cell_type": "markdown",
   "metadata": {
    "_cell_guid": "222bc880-3650-4274-bab4-2d077371468f",
    "_uuid": "5b3cd6eb6e238609fef14e2b1a2f7b71033f48b9",
    "colab_type": "text",
    "id": "ZAbRD9FcpWqf"
   },
   "source": [
    "观察女性逃生人数\n",
    "观察男性逃生人数"
   ]
  },
  {
   "cell_type": "code",
   "execution_count": 0,
   "metadata": {
    "_cell_guid": "ed3a6127-7043-4e1e-8ff4-c2e220079b0e",
    "_uuid": "9ba5b6e3e3388e3482288e6998003efadb5cb51a",
    "colab": {},
    "colab_type": "code",
    "id": "FjB8rUkCpWqh",
    "outputId": "440759d7-3877-45d2-c05b-3d4cfc7bf3bd"
   },
   "outputs": [
    {
     "data": {
      "text/plain": [
       "<matplotlib.axes._subplots.AxesSubplot at 0x13359b9de88>"
      ]
     },
     "execution_count": 139,
     "metadata": {
      "tags": []
     },
     "output_type": "execute_result"
    },
    {
     "data": {
      "image/png": "[encoded data removed]",
      "text/plain": [
       "<Figure size 432x288 with 1 Axes>"
      ]
     },
     "metadata": {
      "needs_background": "light",
      "tags": []
     },
     "output_type": "display_data"
    }
   ],
   "source": [
    "sns.countplot(x='Survived',hue='Sex' ,data=data)"
   ]
  },
  {
   "cell_type": "markdown",
   "metadata": {
    "_cell_guid": "cd4e2292-f909-4ae4-a0ec-12c40de9d6d6",
    "_uuid": "fa3466370613f20f8ec0882da650d30c8dcc625c",
    "colab_type": "text",
    "id": "uo8kPQFPpWqr"
   },
   "source": []
  },
  {
   "cell_type": "code",
   "execution_count": 0,
   "metadata": {
    "_cell_guid": "04dacc7d-3044-49a7-af4f-27a9cd0f606f",
    "_uuid": "77e73679e69663621ea5b3d22849189b3eca3585",
    "colab": {},
    "colab_type": "code",
    "id": "DNfBrXVypWqt",
    "outputId": "6396fdce-c88c-4e35-a881-72ef7b5055c0"
   },
   "outputs": [
    {
     "data": {
      "text/plain": [
       "<matplotlib.axes._subplots.AxesSubplot at 0x13358ceb0c8>"
      ]
     },
     "execution_count": 140,
     "metadata": {
      "tags": []
     },
     "output_type": "execute_result"
    },
    {
     "data": {
      "image/png": "[encoded data removed]",
      "text/plain": [
       "<Figure size 432x288 with 1 Axes>"
      ]
     },
     "metadata": {
      "needs_background": "light",
      "tags": []
     },
     "output_type": "display_data"
    }
   ],
   "source": [
    "sns.countplot(x='Survived', hue='Pclass', data=data)"
   ]
  },
  {
   "cell_type": "markdown",
   "metadata": {
    "_cell_guid": "e12429c3-d417-4862-a4c9-cc82a631c7ff",
    "_uuid": "89062250203e71e8b031632e87c3d8bdfaa36080",
    "colab_type": "text",
    "id": "n7fkhQxipWq1"
   },
   "source": [
    "观察非低等舱逃生情况"
   ]
  },
  {
   "cell_type": "code",
   "execution_count": 0,
   "metadata": {
    "_cell_guid": "3dd2d4bd-20ff-47ba-893d-6a447f3b5724",
    "_uuid": "5e5c3a5c46787cd5d880a0c48a967c0bdb943a1d",
    "colab": {},
    "colab_type": "code",
    "id": "YjRlRt6SpWq3",
    "outputId": "3d57076c-88f7-481f-8a07-f5e449f625d4"
   },
   "outputs": [
    {
     "data": {
      "image/png": "[encoded data removed]",
      "text/plain": [
       "<Figure size 432x288 with 1 Axes>"
      ]
     },
     "metadata": {
      "needs_background": "light",
      "tags": []
     },
     "output_type": "display_data"
    }
   ],
   "source": [
    "highclass = data.Survived[data.Pclass != 3].value_counts().sort_index()\n",
    "highclass.plot(kind='bar',label='Highclass', color='red', alpha=0.6)\n",
    "plt.show()"
   ]
  },
  {
   "cell_type": "markdown",
   "metadata": {
    "_cell_guid": "fd445c88-070e-486b-810e-2f22e9eedb39",
    "_uuid": "af6665bc0c52ee932ffdf972fbaab5dd13cb54f8",
    "colab_type": "text",
    "id": "NK4nlntPpWq_"
   },
   "source": [
    "观察低等舱逃生情况"
   ]
  },
  {
   "cell_type": "code",
   "execution_count": 0,
   "metadata": {
    "_cell_guid": "a035dcbd-f7a4-4fc9-bc46-7b850ea5bbe9",
    "_uuid": "45f91c63891fa9654e94f0a2ac285a9cfc025009",
    "colab": {},
    "colab_type": "code",
    "id": "NtmaWkV1pWrA",
    "outputId": "d936b044-8b3e-4195-9981-3112f264cd2f"
   },
   "outputs": [
    {
     "data": {
      "text/plain": [
       "<function matplotlib.pyplot.show(*args, **kw)>"
      ]
     },
     "execution_count": 142,
     "metadata": {
      "tags": []
     },
     "output_type": "execute_result"
    },
    {
     "data": {
      "image/png": "[encoded data removed]",
      "text/plain": [
       "<Figure size 432x288 with 1 Axes>"
      ]
     },
     "metadata": {
      "needs_background": "light",
      "tags": []
     },
     "output_type": "display_data"
    }
   ],
   "source": [
    "lowclass=data.Survived[data.Pclass==3].value_counts()\n",
    "lowclass.plot(kind='bar')\n",
    "plt.show"
   ]
  },
  {
   "cell_type": "markdown",
   "metadata": {
    "_cell_guid": "51dd2487-6c70-4bcc-952f-a7cbd95464de",
    "_uuid": "8217c1ed2d0efa84568220962ea2106c197a9d15",
    "colab_type": "text",
    "id": "Pi5GQfsIpWrH"
   },
   "source": [
    "dmatrices将数据中的离散变量变成哑变量，并指明用Pclass, Sex, Embarked来预测Survived"
   ]
  },
  {
   "cell_type": "code",
   "execution_count": 0,
   "metadata": {
    "_cell_guid": "453777f1-4cc6-4a7a-941e-c42ae40ab707",
    "_uuid": "ddfa052c26c4ed8412c867f888558b1de7aa1275",
    "colab": {},
    "colab_type": "code",
    "id": "XAiSIbirpWrI",
    "outputId": "a11f090f-fd4e-4532-cce5-6bfbba23f31c"
   },
   "outputs": [
    {
     "data": {
      "text/html": [
       "<div>\n",
       "<style scoped>\n",
       "    .dataframe tbody tr th:only-of-type {\n",
       "        vertical-align: middle;\n",
       "    }\n",
       "\n",
       "    .dataframe tbody tr th {\n",
       "        vertical-align: top;\n",
       "    }\n",
       "\n",
       "    .dataframe thead th {\n",
       "        text-align: right;\n",
       "    }\n",
       "</style>\n",
       "<table border=\"1\" class=\"dataframe\">\n",
       "  <thead>\n",
       "    <tr style=\"text-align: right;\">\n",
       "      <th></th>\n",
       "      <th>PassengerId</th>\n",
       "      <th>Survived</th>\n",
       "      <th>Pclass</th>\n",
       "      <th>Name</th>\n",
       "      <th>Sex</th>\n",
       "      <th>Age</th>\n",
       "      <th>SibSp</th>\n",
       "      <th>Parch</th>\n",
       "      <th>Fare</th>\n",
       "      <th>Embarked</th>\n",
       "    </tr>\n",
       "  </thead>\n",
       "  <tbody>\n",
       "    <tr>\n",
       "      <th>0</th>\n",
       "      <td>1</td>\n",
       "      <td>0</td>\n",
       "      <td>3</td>\n",
       "      <td>Braund, Mr. Owen Harris</td>\n",
       "      <td>male</td>\n",
       "      <td>22.0</td>\n",
       "      <td>1</td>\n",
       "      <td>0</td>\n",
       "      <td>7.2500</td>\n",
       "      <td>S</td>\n",
       "    </tr>\n",
       "    <tr>\n",
       "      <th>1</th>\n",
       "      <td>2</td>\n",
       "      <td>1</td>\n",
       "      <td>1</td>\n",
       "      <td>Cumings, Mrs. John Bradley (Florence Briggs Th...</td>\n",
       "      <td>female</td>\n",
       "      <td>38.0</td>\n",
       "      <td>1</td>\n",
       "      <td>0</td>\n",
       "      <td>71.2833</td>\n",
       "      <td>C</td>\n",
       "    </tr>\n",
       "    <tr>\n",
       "      <th>2</th>\n",
       "      <td>3</td>\n",
       "      <td>1</td>\n",
       "      <td>3</td>\n",
       "      <td>Heikkinen, Miss. Laina</td>\n",
       "      <td>female</td>\n",
       "      <td>26.0</td>\n",
       "      <td>0</td>\n",
       "      <td>0</td>\n",
       "      <td>7.9250</td>\n",
       "      <td>S</td>\n",
       "    </tr>\n",
       "    <tr>\n",
       "      <th>3</th>\n",
       "      <td>4</td>\n",
       "      <td>1</td>\n",
       "      <td>1</td>\n",
       "      <td>Futrelle, Mrs. Jacques Heath (Lily May Peel)</td>\n",
       "      <td>female</td>\n",
       "      <td>35.0</td>\n",
       "      <td>1</td>\n",
       "      <td>0</td>\n",
       "      <td>53.1000</td>\n",
       "      <td>S</td>\n",
       "    </tr>\n",
       "    <tr>\n",
       "      <th>4</th>\n",
       "      <td>5</td>\n",
       "      <td>0</td>\n",
       "      <td>3</td>\n",
       "      <td>Allen, Mr. William Henry</td>\n",
       "      <td>male</td>\n",
       "      <td>35.0</td>\n",
       "      <td>0</td>\n",
       "      <td>0</td>\n",
       "      <td>8.0500</td>\n",
       "      <td>S</td>\n",
       "    </tr>\n",
       "  </tbody>\n",
       "</table>\n",
       "</div>"
      ],
      "text/plain": [
       "   PassengerId  Survived  Pclass  \\\n",
       "0            1         0       3   \n",
       "1            2         1       1   \n",
       "2            3         1       3   \n",
       "3            4         1       1   \n",
       "4            5         0       3   \n",
       "\n",
       "                                                Name     Sex   Age  SibSp  \\\n",
       "0                            Braund, Mr. Owen Harris    male  22.0      1   \n",
       "1  Cumings, Mrs. John Bradley (Florence Briggs Th...  female  38.0      1   \n",
       "2                             Heikkinen, Miss. Laina  female  26.0      0   \n",
       "3       Futrelle, Mrs. Jacques Heath (Lily May Peel)  female  35.0      1   \n",
       "4                           Allen, Mr. William Henry    male  35.0      0   \n",
       "\n",
       "   Parch     Fare Embarked  \n",
       "0      0   7.2500        S  \n",
       "1      0  71.2833        C  \n",
       "2      0   7.9250        S  \n",
       "3      0  53.1000        S  \n",
       "4      0   8.0500        S  "
      ]
     },
     "execution_count": 143,
     "metadata": {
      "tags": []
     },
     "output_type": "execute_result"
    }
   ],
   "source": [
    "data.head()"
   ]
  },
  {
   "cell_type": "code",
   "execution_count": 0,
   "metadata": {
    "colab": {},
    "colab_type": "code",
    "id": "VKqGSbeQpWrY",
    "outputId": "79694f9e-f774-4127-fbd2-2b40d55718e9"
   },
   "outputs": [
    {
     "data": {
      "text/html": [
       "<div>\n",
       "<style scoped>\n",
       "    .dataframe tbody tr th:only-of-type {\n",
       "        vertical-align: middle;\n",
       "    }\n",
       "\n",
       "    .dataframe tbody tr th {\n",
       "        vertical-align: top;\n",
       "    }\n",
       "\n",
       "    .dataframe thead th {\n",
       "        text-align: right;\n",
       "    }\n",
       "</style>\n",
       "<table border=\"1\" class=\"dataframe\">\n",
       "  <thead>\n",
       "    <tr style=\"text-align: right;\">\n",
       "      <th></th>\n",
       "      <th>Intercept</th>\n",
       "      <th>C(Sex)[T.male]</th>\n",
       "      <th>C(Embarked)[T.Q]</th>\n",
       "      <th>C(Embarked)[T.S]</th>\n",
       "      <th>Pclass</th>\n",
       "      <th>Age</th>\n",
       "    </tr>\n",
       "  </thead>\n",
       "  <tbody>\n",
       "    <tr>\n",
       "      <th>0</th>\n",
       "      <td>1.0</td>\n",
       "      <td>1.0</td>\n",
       "      <td>0.0</td>\n",
       "      <td>1.0</td>\n",
       "      <td>3.0</td>\n",
       "      <td>22.0</td>\n",
       "    </tr>\n",
       "    <tr>\n",
       "      <th>1</th>\n",
       "      <td>1.0</td>\n",
       "      <td>0.0</td>\n",
       "      <td>0.0</td>\n",
       "      <td>0.0</td>\n",
       "      <td>1.0</td>\n",
       "      <td>38.0</td>\n",
       "    </tr>\n",
       "    <tr>\n",
       "      <th>2</th>\n",
       "      <td>1.0</td>\n",
       "      <td>0.0</td>\n",
       "      <td>0.0</td>\n",
       "      <td>1.0</td>\n",
       "      <td>3.0</td>\n",
       "      <td>26.0</td>\n",
       "    </tr>\n",
       "    <tr>\n",
       "      <th>3</th>\n",
       "      <td>1.0</td>\n",
       "      <td>0.0</td>\n",
       "      <td>0.0</td>\n",
       "      <td>1.0</td>\n",
       "      <td>1.0</td>\n",
       "      <td>35.0</td>\n",
       "    </tr>\n",
       "    <tr>\n",
       "      <th>4</th>\n",
       "      <td>1.0</td>\n",
       "      <td>1.0</td>\n",
       "      <td>0.0</td>\n",
       "      <td>1.0</td>\n",
       "      <td>3.0</td>\n",
       "      <td>35.0</td>\n",
       "    </tr>\n",
       "  </tbody>\n",
       "</table>\n",
       "</div>"
      ],
      "text/plain": [
       "   Intercept  C(Sex)[T.male]  C(Embarked)[T.Q]  C(Embarked)[T.S]  Pclass   Age\n",
       "0        1.0             1.0               0.0               1.0     3.0  22.0\n",
       "1        1.0             0.0               0.0               0.0     1.0  38.0\n",
       "2        1.0             0.0               0.0               1.0     3.0  26.0\n",
       "3        1.0             0.0               0.0               1.0     1.0  35.0\n",
       "4        1.0             1.0               0.0               1.0     3.0  35.0"
      ]
     },
     "execution_count": 144,
     "metadata": {
      "tags": []
     },
     "output_type": "execute_result"
    }
   ],
   "source": [
    "y,X= dmatrices('Survived~Pclass+C(Sex)+Age+C(Embarked)', data,return_type='dataframe')\n",
    "X.head(5)\n"
   ]
  },
  {
   "cell_type": "code",
   "execution_count": 0,
   "metadata": {
    "colab": {},
    "colab_type": "code",
    "id": "dwv-yRc3pWre"
   },
   "outputs": [],
   "source": [
    "model=LogisticRegression(C=0.1)"
   ]
  },
  {
   "cell_type": "code",
   "execution_count": 0,
   "metadata": {
    "colab": {},
    "colab_type": "code",
    "id": "ui-HuHLTpWrh",
    "outputId": "9cf32639-4471-4ef8-bccf-af284efd8563"
   },
   "outputs": [
    {
     "name": "stderr",
     "output_type": "stream",
     "text": [
      "D:\\Softwares\\Anaconda\\lib\\site-packages\\sklearn\\utils\\validation.py:760: DataConversionWarning: A column-vector y was passed when a 1d array was expected. Please change the shape of y to (n_samples, ), for example using ravel().\n",
      "  y = column_or_1d(y, warn=True)\n"
     ]
    },
    {
     "data": {
      "text/plain": [
       "LogisticRegression(C=0.1, class_weight=None, dual=False, fit_intercept=True,\n",
       "                   intercept_scaling=1, l1_ratio=None, max_iter=100,\n",
       "                   multi_class='auto', n_jobs=None, penalty='l2',\n",
       "                   random_state=None, solver='lbfgs', tol=0.0001, verbose=0,\n",
       "                   warm_start=False)"
      ]
     },
     "execution_count": 152,
     "metadata": {
      "tags": []
     },
     "output_type": "execute_result"
    }
   ],
   "source": [
    "model.fit(X,y)"
   ]
  },
  {
   "cell_type": "markdown",
   "metadata": {
    "_cell_guid": "7e5a6a1c-cfa9-48a9-b4ad-8bd470f93032",
    "_uuid": "010dffc1f1c6018cbe9c87d5acfc11ece45388a1",
    "colab_type": "text",
    "id": "6a4bbb7rpWrm"
   },
   "source": [
    "输出训练准确率"
   ]
  },
  {
   "cell_type": "code",
   "execution_count": 0,
   "metadata": {
    "_cell_guid": "f0d823c3-ca27-4ef4-87d4-46ea64936d02",
    "_uuid": "fcd1352022467148cb02ab4aa8b9303efac1854f",
    "colab": {},
    "colab_type": "code",
    "id": "nALaZVcGpWrn",
    "outputId": "165990d5-fedb-44de-989e-dfd94e12495c"
   },
   "outputs": [
    {
     "data": {
      "text/plain": [
       "0.800561797752809"
      ]
     },
     "execution_count": 153,
     "metadata": {
      "tags": []
     },
     "output_type": "execute_result"
    }
   ],
   "source": [
    "model.score(X,y)"
   ]
  },
  {
   "cell_type": "markdown",
   "metadata": {
    "_cell_guid": "087f2865-8e5f-4978-9e7e-148833384b09",
    "_uuid": "052388d8c273be27b9b44175c256669d63254ad5",
    "colab_type": "text",
    "id": "fy6K11K7pWrt"
   },
   "source": [
    "输出空模型的正确率：空模型预测所有人都未逃生"
   ]
  },
  {
   "cell_type": "code",
   "execution_count": 0,
   "metadata": {
    "_cell_guid": "bcaaa26f-ee33-482a-905f-573861579865",
    "_uuid": "87be9cded3b746c41760445f6bb6dc15a938f836",
    "colab": {},
    "colab_type": "code",
    "id": "XA59jslfpWrv",
    "outputId": "7f007e0d-df6d-47a9-f875-d3e82e47dfe9"
   },
   "outputs": [
    {
     "name": "stdout",
     "output_type": "stream",
     "text": [
      "0.5955056179775281\n"
     ]
    }
   ],
   "source": [
    "died=y[y.Survived==0]\n",
    "die_rate=died.shape[0]/y.shape[0]\n",
    "print(die_rate)\n"
   ]
  },
  {
   "cell_type": "markdown",
   "metadata": {
    "_cell_guid": "98453508-bb3c-4e88-bb82-76801dfba0ec",
    "_uuid": "853dc67eba7c1f183ce8e5f619d54ba173ce126f",
    "colab_type": "text",
    "id": "ZYLVZKLDpWr1"
   },
   "source": [
    "观察模型系数，即每种因素对于预测逃生的重要性"
   ]
  },
  {
   "cell_type": "code",
   "execution_count": 0,
   "metadata": {
    "_cell_guid": "d58bf086-3a31-4c3d-8568-eeaa6abef3d4",
    "_uuid": "39b25d0bf3ab11cf68cd7f586504b2c49769d64d",
    "colab": {},
    "colab_type": "code",
    "id": "m2-UIgl5pWr2",
    "outputId": "0df2950d-3648-40e1-c928-b3002affba07"
   },
   "outputs": [
    {
     "data": {
      "text/html": [
       "<div>\n",
       "<style scoped>\n",
       "    .dataframe tbody tr th:only-of-type {\n",
       "        vertical-align: middle;\n",
       "    }\n",
       "\n",
       "    .dataframe tbody tr th {\n",
       "        vertical-align: top;\n",
       "    }\n",
       "\n",
       "    .dataframe thead th {\n",
       "        text-align: right;\n",
       "    }\n",
       "</style>\n",
       "<table border=\"1\" class=\"dataframe\">\n",
       "  <thead>\n",
       "    <tr style=\"text-align: right;\">\n",
       "      <th></th>\n",
       "      <th>0</th>\n",
       "      <th>1</th>\n",
       "    </tr>\n",
       "  </thead>\n",
       "  <tbody>\n",
       "    <tr>\n",
       "      <th>0</th>\n",
       "      <td>Intercept</td>\n",
       "      <td>[9.880870862499552e-05]</td>\n",
       "    </tr>\n",
       "    <tr>\n",
       "      <th>1</th>\n",
       "      <td>C(Sex)[T.male]</td>\n",
       "      <td>[-1.7845535569128674]</td>\n",
       "    </tr>\n",
       "    <tr>\n",
       "      <th>2</th>\n",
       "      <td>C(Embarked)[T.Q]</td>\n",
       "      <td>[-0.17566026956505545]</td>\n",
       "    </tr>\n",
       "    <tr>\n",
       "      <th>3</th>\n",
       "      <td>C(Embarked)[T.S]</td>\n",
       "      <td>[-0.28081476520155]</td>\n",
       "    </tr>\n",
       "    <tr>\n",
       "      <th>4</th>\n",
       "      <td>Pclass</td>\n",
       "      <td>[-1.0041288896211933]</td>\n",
       "    </tr>\n",
       "    <tr>\n",
       "      <th>5</th>\n",
       "      <td>Age</td>\n",
       "      <td>[-0.031707500680120196]</td>\n",
       "    </tr>\n",
       "  </tbody>\n",
       "</table>\n",
       "</div>"
      ],
      "text/plain": [
       "                  0                        1\n",
       "0         Intercept  [9.880870862499552e-05]\n",
       "1    C(Sex)[T.male]    [-1.7845535569128674]\n",
       "2  C(Embarked)[T.Q]   [-0.17566026956505545]\n",
       "3  C(Embarked)[T.S]      [-0.28081476520155]\n",
       "4            Pclass    [-1.0041288896211933]\n",
       "5               Age  [-0.031707500680120196]"
      ]
     },
     "execution_count": 155,
     "metadata": {
      "tags": []
     },
     "output_type": "execute_result"
    }
   ],
   "source": [
    "pd.DataFrame(list(zip(X.columns, np.transpose(model.coef_))))"
   ]
  },
  {
   "cell_type": "markdown",
   "metadata": {
    "_cell_guid": "2cee8112-df8c-4292-8746-3b209a324a74",
    "_uuid": "a7f3f42187a5eac53971f00b633189e68803809b",
    "colab_type": "text",
    "id": "lHVMYzerpWr6"
   },
   "source": [
    "对测试数据../input/test.csv生成预测，将结果写入./my_prediction.csv"
   ]
  },
  {
   "cell_type": "code",
   "execution_count": 0,
   "metadata": {
    "_cell_guid": "9ac3c034-a53b-49db-9539-48dcd72805a1",
    "_uuid": "f93faeeb0f4409db061fc1941712b607ef278efa",
    "colab": {},
    "colab_type": "code",
    "id": "HCJ_hE6epWr7"
   },
   "outputs": [],
   "source": []
  },
  {
   "cell_type": "markdown",
   "metadata": {
    "colab_type": "text",
    "id": "VRqN4mJ3pWsB"
   },
   "source": [
    "画Precision-Recall Curve"
   ]
  },
  {
   "cell_type": "markdown",
   "metadata": {
    "colab_type": "text",
    "collapsed": true,
    "id": "SNYi2_nYpWsC"
   },
   "source": [
    "precision= TP/(TP+FP)\n",
    "Recall = TP/(TP+FN)"
   ]
  },
  {
   "cell_type": "code",
   "execution_count": 0,
   "metadata": {
    "colab": {},
    "colab_type": "code",
    "id": "UfJdCs2cpWsC",
    "outputId": "1ab5c440-47bf-4a10-ddfd-772c8b3d8dd3"
   },
   "outputs": [
    {
     "data": {
      "text/plain": [
       "<sklearn.metrics._plot.precision_recall_curve.PrecisionRecallDisplay at 0x13358c66348>"
      ]
     },
     "execution_count": 156,
     "metadata": {
      "tags": []
     },
     "output_type": "execute_result"
    },
    {
     "data": {
      "image/png": "[encoded data removed]",
      "text/plain": [
       "<Figure size 432x288 with 1 Axes>"
      ]
     },
     "metadata": {
      "needs_background": "light",
      "tags": []
     },
     "output_type": "display_data"
    }
   ],
   "source": [
    "from sklearn.metrics import plot_precision_recall_curve\n",
    "plot_precision_recall_curve(model,X,y)"
   ]
  },
  {
   "cell_type": "code",
   "execution_count": 0,
   "metadata": {
    "colab": {},
    "colab_type": "code",
    "id": "TctBdxHUpWsH"
   },
   "outputs": [],
   "source": []
  }
 ],
 "metadata": {
  "colab": {
   "name": "My Titanic HW 3 ai-camp-logistic-regression-titanic-homework.ipynb",
   "provenance": []
  },
  "kernelspec": {
   "display_name": "Python 3",
   "language": "python",
   "name": "python3"
  },
  "language_info": {
   "codemirror_mode": {
    "name": "ipython",
    "version": 3
   },
   "file_extension": ".py",
   "mimetype": "text/x-python",
   "name": "python",
   "nbconvert_exporter": "python",
   "pygments_lexer": "ipython3",
   "version": "3.7.6"
  }
 },
 "nbformat": 4,
 "nbformat_minor": 1
}
